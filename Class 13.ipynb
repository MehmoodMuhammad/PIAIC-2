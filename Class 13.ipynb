{
 "cells": [
  {
   "cell_type": "code",
   "execution_count": 1,
   "metadata": {},
   "outputs": [],
   "source": [
    "from tensorflow.keras.datasets import reuters\n",
    "(train_data, train_labels), (test_data, test_labels) = reuters.load_data(\n",
    "num_words=10000)"
   ]
  },
  {
   "cell_type": "code",
   "execution_count": 2,
   "metadata": {},
   "outputs": [
    {
     "data": {
      "text/plain": [
       "8982"
      ]
     },
     "execution_count": 2,
     "metadata": {},
     "output_type": "execute_result"
    }
   ],
   "source": [
    "len(train_data)"
   ]
  },
  {
   "cell_type": "code",
   "execution_count": 3,
   "metadata": {},
   "outputs": [
    {
     "data": {
      "text/plain": [
       "2246"
      ]
     },
     "execution_count": 3,
     "metadata": {},
     "output_type": "execute_result"
    }
   ],
   "source": [
    "len(test_data)"
   ]
  },
  {
   "cell_type": "code",
   "execution_count": 4,
   "metadata": {},
   "outputs": [
    {
     "data": {
      "text/plain": [
       "[1,\n",
       " 245,\n",
       " 273,\n",
       " 207,\n",
       " 156,\n",
       " 53,\n",
       " 74,\n",
       " 160,\n",
       " 26,\n",
       " 14,\n",
       " 46,\n",
       " 296,\n",
       " 26,\n",
       " 39,\n",
       " 74,\n",
       " 2979,\n",
       " 3554,\n",
       " 14,\n",
       " 46,\n",
       " 4689,\n",
       " 4329,\n",
       " 86,\n",
       " 61,\n",
       " 3499,\n",
       " 4795,\n",
       " 14,\n",
       " 61,\n",
       " 451,\n",
       " 4329,\n",
       " 17,\n",
       " 12]"
      ]
     },
     "execution_count": 4,
     "metadata": {},
     "output_type": "execute_result"
    }
   ],
   "source": [
    "train_data[10]"
   ]
  },
  {
   "cell_type": "code",
   "execution_count": 5,
   "metadata": {},
   "outputs": [
    {
     "data": {
      "text/plain": [
       "3"
      ]
     },
     "execution_count": 5,
     "metadata": {},
     "output_type": "execute_result"
    }
   ],
   "source": [
    "train_labels[10]"
   ]
  },
  {
   "cell_type": "code",
   "execution_count": 28,
   "metadata": {},
   "outputs": [],
   "source": [
    "import numpy as np\n",
    "def vectorize_sequences(sequences, dimension=10000):\n",
    "    results = np.zeros((len(sequences), dimension))\n",
    "    for i, sequence in enumerate(sequences):\n",
    "        results[i, sequence] = 1.\n",
    "    return results\n",
    "x_train = vectorize_sequences(train_data)\n",
    "x_test = vectorize_sequences(test_data)"
   ]
  },
  {
   "cell_type": "code",
   "execution_count": 29,
   "metadata": {},
   "outputs": [],
   "source": [
    "def to_one_hot(labels, dimension=46):\n",
    "    results = np.zeros((len(labels), dimension))\n",
    "    for i, label in enumerate(labels):\n",
    "        results[i, label] = 1.\n",
    "    return results\n",
    "one_hot_train_labels = to_one_hot(train_labels)\n",
    "one_hot_test_labels = to_one_hot(test_labels)"
   ]
  },
  {
   "cell_type": "code",
   "execution_count": 30,
   "metadata": {},
   "outputs": [],
   "source": [
    "from tensorflow.keras import models\n",
    "from tensorflow.keras import layers\n",
    "model = models.Sequential()\n",
    "model.add(layers.Dense(64, activation='relu', input_shape=(10000,)))\n",
    "model.add(layers.Dense(64, activation='relu'))\n",
    "model.add(layers.Dense(46, activation='softmax'))\n"
   ]
  },
  {
   "cell_type": "code",
   "execution_count": 31,
   "metadata": {},
   "outputs": [],
   "source": [
    "model.compile(optimizer='rmsprop',\n",
    "loss='categorical_crossentropy',\n",
    "metrics=['accuracy'])"
   ]
  },
  {
   "cell_type": "code",
   "execution_count": 32,
   "metadata": {},
   "outputs": [],
   "source": [
    "x_val = x_train[:1000]\n",
    "partial_x_train = x_train[1000:]\n",
    "y_val = one_hot_train_labels[:1000]\n",
    "partial_y_train = one_hot_train_labels[1000:]"
   ]
  },
  {
   "cell_type": "code",
   "execution_count": 33,
   "metadata": {},
   "outputs": [
    {
     "name": "stdout",
     "output_type": "stream",
     "text": [
      "Train on 7982 samples, validate on 1000 samples\n",
      "Epoch 1/20\n",
      "7982/7982 [==============================] - 2s 247us/sample - loss: 2.6354 - acc: 0.4285 - val_loss: 1.7853 - val_acc: 0.6190\n",
      "Epoch 2/20\n",
      "7982/7982 [==============================] - 2s 216us/sample - loss: 1.4758 - acc: 0.6874 - val_loss: 1.3206 - val_acc: 0.7150\n",
      "Epoch 3/20\n",
      "7982/7982 [==============================] - 2s 249us/sample - loss: 1.0892 - acc: 0.7669 - val_loss: 1.1473 - val_acc: 0.7380\n",
      "Epoch 4/20\n",
      "7982/7982 [==============================] - 2s 198us/sample - loss: 0.8507 - acc: 0.8165 - val_loss: 1.0958 - val_acc: 0.7350\n",
      "Epoch 5/20\n",
      "7982/7982 [==============================] - 2s 205us/sample - loss: 0.6854 - acc: 0.8543 - val_loss: 0.9678 - val_acc: 0.7910\n",
      "Epoch 6/20\n",
      "7982/7982 [==============================] - 1s 183us/sample - loss: 0.5495 - acc: 0.8860 - val_loss: 0.9041 - val_acc: 0.8080\n",
      "Epoch 7/20\n",
      "7982/7982 [==============================] - 1s 183us/sample - loss: 0.4439 - acc: 0.9080 - val_loss: 0.8725 - val_acc: 0.8160\n",
      "Epoch 8/20\n",
      "7982/7982 [==============================] - 1s 184us/sample - loss: 0.3599 - acc: 0.9237 - val_loss: 0.8724 - val_acc: 0.8130\n",
      "Epoch 9/20\n",
      "7982/7982 [==============================] - 2s 189us/sample - loss: 0.2977 - acc: 0.9355 - val_loss: 0.8469 - val_acc: 0.8250\n",
      "Epoch 10/20\n",
      "7982/7982 [==============================] - 2s 189us/sample - loss: 0.2477 - acc: 0.9421 - val_loss: 0.8575 - val_acc: 0.8200\n",
      "Epoch 11/20\n",
      "7982/7982 [==============================] - 2s 190us/sample - loss: 0.2152 - acc: 0.9481 - val_loss: 0.8652 - val_acc: 0.8170\n",
      "Epoch 12/20\n",
      "7982/7982 [==============================] - 1s 187us/sample - loss: 0.1872 - acc: 0.9499 - val_loss: 0.9266 - val_acc: 0.8090\n",
      "Epoch 13/20\n",
      "7982/7982 [==============================] - 2s 217us/sample - loss: 0.1668 - acc: 0.9530 - val_loss: 0.9315 - val_acc: 0.8100\n",
      "Epoch 14/20\n",
      "7982/7982 [==============================] - 2s 217us/sample - loss: 0.1540 - acc: 0.9539 - val_loss: 0.9760 - val_acc: 0.7990\n",
      "Epoch 15/20\n",
      "7982/7982 [==============================] - 2s 228us/sample - loss: 0.1404 - acc: 0.9568 - val_loss: 0.9663 - val_acc: 0.8080\n",
      "Epoch 16/20\n",
      "7982/7982 [==============================] - 1s 184us/sample - loss: 0.1305 - acc: 0.9550 - val_loss: 0.9422 - val_acc: 0.8090\n",
      "Epoch 17/20\n",
      "7982/7982 [==============================] - 2s 188us/sample - loss: 0.1253 - acc: 0.9578 - val_loss: 1.0201 - val_acc: 0.8030\n",
      "Epoch 18/20\n",
      "7982/7982 [==============================] - 1s 187us/sample - loss: 0.1155 - acc: 0.9563 - val_loss: 0.9742 - val_acc: 0.8190\n",
      "Epoch 19/20\n",
      "7982/7982 [==============================] - 1s 184us/sample - loss: 0.1154 - acc: 0.9570 - val_loss: 1.0493 - val_acc: 0.7990\n",
      "Epoch 20/20\n",
      "7982/7982 [==============================] - 1s 184us/sample - loss: 0.1113 - acc: 0.9573 - val_loss: 1.0127 - val_acc: 0.8120\n"
     ]
    }
   ],
   "source": [
    "history = model.fit(partial_x_train,\n",
    "partial_y_train,\n",
    "epochs=20,\n",
    "batch_size=512,\n",
    "validation_data=(x_val, y_val))"
   ]
  },
  {
   "cell_type": "code",
   "execution_count": 34,
   "metadata": {},
   "outputs": [
    {
     "data": {
      "image/png": "[encoded data removed]",
      "text/plain": [
       "<Figure size 432x288 with 1 Axes>"
      ]
     },
     "metadata": {
      "needs_background": "light"
     },
     "output_type": "display_data"
    }
   ],
   "source": [
    "import matplotlib.pyplot as plt\n",
    "loss = history.history['loss']\n",
    "val_loss = history.history['val_loss']\n",
    "epochs = range(1, len(loss) + 1)\n",
    "plt.plot(epochs, loss, 'bo', label='Training loss')\n",
    "plt.plot(epochs, val_loss, 'b', label='Validation loss')\n",
    "plt.title('Training and validation loss')\n",
    "plt.xlabel('Epochs')\n",
    "plt.ylabel('Loss')\n",
    "plt.legend()\n",
    "plt.show()"
   ]
  },
  {
   "cell_type": "code",
   "execution_count": 35,
   "metadata": {},
   "outputs": [
    {
     "data": {
      "image/png": "[encoded data removed]",
      "text/plain": [
       "<Figure size 432x288 with 1 Axes>"
      ]
     },
     "metadata": {
      "needs_background": "light"
     },
     "output_type": "display_data"
    }
   ],
   "source": [
    "plt.clf()\n",
    "acc = history.history['acc']\n",
    "val_acc = history.history['val_acc']\n",
    "plt.plot(epochs, acc, 'bo', label='Training acc')\n",
    "plt.plot(epochs, val_acc, 'b', label='Validation acc')\n",
    "plt.title('Training and validation accuracy')\n",
    "plt.xlabel('Epochs')\n",
    "plt.ylabel('Loss')\n",
    "plt.legend()\n",
    "plt.show()"
   ]
  },
  {
   "cell_type": "markdown",
   "metadata": {},
   "source": [
    "# In calssification a matrix has 3 things:\n",
    "    Accuracy\n",
    "    Precision\n",
    "    Recall"
   ]
  },
  {
   "cell_type": "code",
   "execution_count": 36,
   "metadata": {},
   "outputs": [
    {
     "name": "stdout",
     "output_type": "stream",
     "text": [
      "Train on 7982 samples, validate on 1000 samples\n",
      "Epoch 1/9\n",
      "7982/7982 [==============================] - 2s 231us/sample - loss: 2.5941 - acc: 0.5207 - val_loss: 1.7530 - val_acc: 0.6260\n",
      "Epoch 2/9\n",
      "7982/7982 [==============================] - 1s 184us/sample - loss: 1.4241 - acc: 0.6971 - val_loss: 1.3049 - val_acc: 0.7090\n",
      "Epoch 3/9\n",
      "7982/7982 [==============================] - 1s 187us/sample - loss: 1.0487 - acc: 0.7761 - val_loss: 1.1559 - val_acc: 0.7290\n",
      "Epoch 4/9\n",
      "7982/7982 [==============================] - 1s 178us/sample - loss: 0.8302 - acc: 0.8222 - val_loss: 1.0454 - val_acc: 0.7850\n",
      "Epoch 5/9\n",
      "7982/7982 [==============================] - 1s 179us/sample - loss: 0.6673 - acc: 0.8553 - val_loss: 0.9807 - val_acc: 0.7920\n",
      "Epoch 6/9\n",
      "7982/7982 [==============================] - 1s 184us/sample - loss: 0.5348 - acc: 0.8857 - val_loss: 0.9385 - val_acc: 0.7990\n",
      "Epoch 7/9\n",
      "7982/7982 [==============================] - 1s 186us/sample - loss: 0.4303 - acc: 0.9090 - val_loss: 0.9050 - val_acc: 0.8170\n",
      "Epoch 8/9\n",
      "7982/7982 [==============================] - 1s 181us/sample - loss: 0.3512 - acc: 0.9245 - val_loss: 0.8910 - val_acc: 0.8130\n",
      "Epoch 9/9\n",
      "7982/7982 [==============================] - 2s 197us/sample - loss: 0.2921 - acc: 0.9366 - val_loss: 0.9172 - val_acc: 0.8190\n",
      "2246/2246 [==============================] - 0s 215us/sample - loss: 1.0325 - acc: 0.7805\n"
     ]
    }
   ],
   "source": [
    "model = models.Sequential()\n",
    "model.add(layers.Dense(64, activation='relu', input_shape=(10000,)))\n",
    "model.add(layers.Dense(64, activation='relu'))\n",
    "model.add(layers.Dense(46, activation='softmax'))\n",
    "model.compile(optimizer='rmsprop',\n",
    "loss='categorical_crossentropy',\n",
    "metrics=['accuracy'])\n",
    "model.fit(partial_x_train,\n",
    "partial_y_train,\n",
    "epochs=9,\n",
    "batch_size=512,\n",
    "validation_data=(x_val, y_val))\n",
    "results = model.evaluate(x_test, one_hot_test_labels)"
   ]
  },
  {
   "cell_type": "markdown",
   "metadata": {},
   "source": [
    "# CNN NEWS"
   ]
  },
  {
   "cell_type": "code",
   "execution_count": null,
   "metadata": {},
   "outputs": [],
   "source": []
  }
 ],
 "metadata": {
  "kernelspec": {
   "display_name": "Python 3",
   "language": "python",
   "name": "python3"
  },
  "language_info": {
   "codemirror_mode": {
    "name": "ipython",
    "version": 3
   },
   "file_extension": ".py",
   "mimetype": "text/x-python",
   "name": "python",
   "nbconvert_exporter": "python",
   "pygments_lexer": "ipython3",
   "version": "3.7.3"
  }
 },
 "nbformat": 4,
 "nbformat_minor": 2
}
